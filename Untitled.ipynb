{
 "cells": [
  {
   "cell_type": "code",
   "execution_count": 1,
   "id": "891c00e8",
   "metadata": {},
   "outputs": [],
   "source": [
    "import pandas as pd"
   ]
  },
  {
   "cell_type": "code",
   "execution_count": 2,
   "id": "908f2975",
   "metadata": {},
   "outputs": [
    {
     "data": {
      "text/html": [
       "<div>\n",
       "<style scoped>\n",
       "    .dataframe tbody tr th:only-of-type {\n",
       "        vertical-align: middle;\n",
       "    }\n",
       "\n",
       "    .dataframe tbody tr th {\n",
       "        vertical-align: top;\n",
       "    }\n",
       "\n",
       "    .dataframe thead th {\n",
       "        text-align: right;\n",
       "    }\n",
       "</style>\n",
       "<table border=\"1\" class=\"dataframe\">\n",
       "  <thead>\n",
       "    <tr style=\"text-align: right;\">\n",
       "      <th></th>\n",
       "      <th>year</th>\n",
       "      <th>self_employed</th>\n",
       "      <th>number_of_employees</th>\n",
       "      <th>tech_company</th>\n",
       "      <th>mental_health_benefits</th>\n",
       "      <th>mental_health_benefits_awareness</th>\n",
       "      <th>employer_mental_health_discussion</th>\n",
       "      <th>employer_mental_health_learning_resources</th>\n",
       "      <th>mental_health_treatment_anonymity</th>\n",
       "      <th>mental_health_leave_accessibility</th>\n",
       "      <th>mental_health_discussion_comfort_coworkers</th>\n",
       "      <th>mental_health_discussion_comfort_supervisor</th>\n",
       "    </tr>\n",
       "  </thead>\n",
       "  <tbody>\n",
       "    <tr>\n",
       "      <th>0</th>\n",
       "      <td>2014</td>\n",
       "      <td>No</td>\n",
       "      <td>100-500</td>\n",
       "      <td>Yes</td>\n",
       "      <td>Yes</td>\n",
       "      <td>Yes</td>\n",
       "      <td>No</td>\n",
       "      <td>No</td>\n",
       "      <td>No</td>\n",
       "      <td>Somewhat difficult</td>\n",
       "      <td>Some of them</td>\n",
       "      <td>Some of them</td>\n",
       "    </tr>\n",
       "    <tr>\n",
       "      <th>1</th>\n",
       "      <td>2014</td>\n",
       "      <td>No</td>\n",
       "      <td>26-100</td>\n",
       "      <td>Yes</td>\n",
       "      <td>Yes</td>\n",
       "      <td>Yes</td>\n",
       "      <td>No</td>\n",
       "      <td>No</td>\n",
       "      <td>Don't know</td>\n",
       "      <td>Don't know</td>\n",
       "      <td>Some of them</td>\n",
       "      <td>Yes</td>\n",
       "    </tr>\n",
       "    <tr>\n",
       "      <th>2</th>\n",
       "      <td>2014</td>\n",
       "      <td>No</td>\n",
       "      <td>More than 1000</td>\n",
       "      <td>No</td>\n",
       "      <td>Don't know</td>\n",
       "      <td>No</td>\n",
       "      <td>No</td>\n",
       "      <td>Don't know</td>\n",
       "      <td>Don't know</td>\n",
       "      <td>Don't know</td>\n",
       "      <td>No</td>\n",
       "      <td>No</td>\n",
       "    </tr>\n",
       "    <tr>\n",
       "      <th>3</th>\n",
       "      <td>2014</td>\n",
       "      <td>No</td>\n",
       "      <td>26-100</td>\n",
       "      <td>Yes</td>\n",
       "      <td>Yes</td>\n",
       "      <td>Not sure</td>\n",
       "      <td>Don't know</td>\n",
       "      <td>Yes</td>\n",
       "      <td>Yes</td>\n",
       "      <td>Don't know</td>\n",
       "      <td>Yes</td>\n",
       "      <td>Yes</td>\n",
       "    </tr>\n",
       "    <tr>\n",
       "      <th>4</th>\n",
       "      <td>2014</td>\n",
       "      <td>No</td>\n",
       "      <td>More than 1000</td>\n",
       "      <td>No</td>\n",
       "      <td>Yes</td>\n",
       "      <td>Yes</td>\n",
       "      <td>No</td>\n",
       "      <td>Don't know</td>\n",
       "      <td>No</td>\n",
       "      <td>Very easy</td>\n",
       "      <td>Some of them</td>\n",
       "      <td>Yes</td>\n",
       "    </tr>\n",
       "    <tr>\n",
       "      <th>...</th>\n",
       "      <td>...</td>\n",
       "      <td>...</td>\n",
       "      <td>...</td>\n",
       "      <td>...</td>\n",
       "      <td>...</td>\n",
       "      <td>...</td>\n",
       "      <td>...</td>\n",
       "      <td>...</td>\n",
       "      <td>...</td>\n",
       "      <td>...</td>\n",
       "      <td>...</td>\n",
       "      <td>...</td>\n",
       "    </tr>\n",
       "    <tr>\n",
       "      <th>3478</th>\n",
       "      <td>2019</td>\n",
       "      <td>No</td>\n",
       "      <td>26-100</td>\n",
       "      <td>Yes</td>\n",
       "      <td>Yes</td>\n",
       "      <td>No</td>\n",
       "      <td>No</td>\n",
       "      <td>No</td>\n",
       "      <td>Yes</td>\n",
       "      <td>Very easy</td>\n",
       "      <td>Yes</td>\n",
       "      <td>Yes</td>\n",
       "    </tr>\n",
       "    <tr>\n",
       "      <th>3479</th>\n",
       "      <td>2019</td>\n",
       "      <td>No</td>\n",
       "      <td>6-25</td>\n",
       "      <td>Yes</td>\n",
       "      <td>No</td>\n",
       "      <td>No</td>\n",
       "      <td>No</td>\n",
       "      <td>No</td>\n",
       "      <td>Don't know</td>\n",
       "      <td>Very easy</td>\n",
       "      <td>No</td>\n",
       "      <td>Maybe</td>\n",
       "    </tr>\n",
       "    <tr>\n",
       "      <th>3480</th>\n",
       "      <td>2019</td>\n",
       "      <td>No</td>\n",
       "      <td>More than 1000</td>\n",
       "      <td>No</td>\n",
       "      <td>Don't know</td>\n",
       "      <td>No</td>\n",
       "      <td>No</td>\n",
       "      <td>Don't know</td>\n",
       "      <td>Don't know</td>\n",
       "      <td>Somewhat difficult</td>\n",
       "      <td>No</td>\n",
       "      <td>No</td>\n",
       "    </tr>\n",
       "    <tr>\n",
       "      <th>3481</th>\n",
       "      <td>2019</td>\n",
       "      <td>No</td>\n",
       "      <td>More than 1000</td>\n",
       "      <td>Yes</td>\n",
       "      <td>No</td>\n",
       "      <td>No</td>\n",
       "      <td>No</td>\n",
       "      <td>No</td>\n",
       "      <td>Yes</td>\n",
       "      <td>Difficult</td>\n",
       "      <td>Maybe</td>\n",
       "      <td>No</td>\n",
       "    </tr>\n",
       "    <tr>\n",
       "      <th>3482</th>\n",
       "      <td>2019</td>\n",
       "      <td>No</td>\n",
       "      <td>More than 1000</td>\n",
       "      <td>Yes</td>\n",
       "      <td>Yes</td>\n",
       "      <td>Yes</td>\n",
       "      <td>No</td>\n",
       "      <td>Yes</td>\n",
       "      <td>Yes</td>\n",
       "      <td>Somewhat difficult</td>\n",
       "      <td>No</td>\n",
       "      <td>Maybe</td>\n",
       "    </tr>\n",
       "  </tbody>\n",
       "</table>\n",
       "<p>3483 rows × 12 columns</p>\n",
       "</div>"
      ],
      "text/plain": [
       "      year self_employed number_of_employees tech_company  \\\n",
       "0     2014            No             100-500          Yes   \n",
       "1     2014            No              26-100          Yes   \n",
       "2     2014            No      More than 1000           No   \n",
       "3     2014            No              26-100          Yes   \n",
       "4     2014            No      More than 1000           No   \n",
       "...    ...           ...                 ...          ...   \n",
       "3478  2019            No              26-100          Yes   \n",
       "3479  2019            No                6-25          Yes   \n",
       "3480  2019            No      More than 1000           No   \n",
       "3481  2019            No      More than 1000          Yes   \n",
       "3482  2019            No      More than 1000          Yes   \n",
       "\n",
       "     mental_health_benefits mental_health_benefits_awareness  \\\n",
       "0                       Yes                              Yes   \n",
       "1                       Yes                              Yes   \n",
       "2                Don't know                               No   \n",
       "3                       Yes                         Not sure   \n",
       "4                       Yes                              Yes   \n",
       "...                     ...                              ...   \n",
       "3478                    Yes                               No   \n",
       "3479                     No                               No   \n",
       "3480             Don't know                               No   \n",
       "3481                     No                               No   \n",
       "3482                    Yes                              Yes   \n",
       "\n",
       "     employer_mental_health_discussion  \\\n",
       "0                                   No   \n",
       "1                                   No   \n",
       "2                                   No   \n",
       "3                           Don't know   \n",
       "4                                   No   \n",
       "...                                ...   \n",
       "3478                                No   \n",
       "3479                                No   \n",
       "3480                                No   \n",
       "3481                                No   \n",
       "3482                                No   \n",
       "\n",
       "     employer_mental_health_learning_resources  \\\n",
       "0                                           No   \n",
       "1                                           No   \n",
       "2                                   Don't know   \n",
       "3                                          Yes   \n",
       "4                                   Don't know   \n",
       "...                                        ...   \n",
       "3478                                        No   \n",
       "3479                                        No   \n",
       "3480                                Don't know   \n",
       "3481                                        No   \n",
       "3482                                       Yes   \n",
       "\n",
       "     mental_health_treatment_anonymity mental_health_leave_accessibility  \\\n",
       "0                                   No                Somewhat difficult   \n",
       "1                           Don't know                        Don't know   \n",
       "2                           Don't know                        Don't know   \n",
       "3                                  Yes                        Don't know   \n",
       "4                                   No                         Very easy   \n",
       "...                                ...                               ...   \n",
       "3478                               Yes                         Very easy   \n",
       "3479                        Don't know                         Very easy   \n",
       "3480                        Don't know                Somewhat difficult   \n",
       "3481                               Yes                         Difficult   \n",
       "3482                               Yes                Somewhat difficult   \n",
       "\n",
       "     mental_health_discussion_comfort_coworkers  \\\n",
       "0                                  Some of them   \n",
       "1                                  Some of them   \n",
       "2                                            No   \n",
       "3                                           Yes   \n",
       "4                                  Some of them   \n",
       "...                                         ...   \n",
       "3478                                        Yes   \n",
       "3479                                         No   \n",
       "3480                                         No   \n",
       "3481                                      Maybe   \n",
       "3482                                         No   \n",
       "\n",
       "     mental_health_discussion_comfort_supervisor  \n",
       "0                                   Some of them  \n",
       "1                                            Yes  \n",
       "2                                             No  \n",
       "3                                            Yes  \n",
       "4                                            Yes  \n",
       "...                                          ...  \n",
       "3478                                         Yes  \n",
       "3479                                       Maybe  \n",
       "3480                                          No  \n",
       "3481                                          No  \n",
       "3482                                       Maybe  \n",
       "\n",
       "[3483 rows x 12 columns]"
      ]
     },
     "execution_count": 2,
     "metadata": {},
     "output_type": "execute_result"
    }
   ],
   "source": [
    "df = pd.read_csv(\"Mental health in tech survey 2014-2019.csv\")\n",
    "df"
   ]
  },
  {
   "cell_type": "code",
   "execution_count": 3,
   "id": "d4d3bcb3",
   "metadata": {},
   "outputs": [],
   "source": [
    "df_2014 = df[df[\"year\"]==2014]\n",
    "shape14 = df_2014.shape[0]\n",
    "df_2016 = df[df[\"year\"]==2016]\n",
    "shape16 = df_2016.shape[0]\n",
    "df_2017 = df[df[\"year\"]==2017]\n",
    "shape17 = df_2017.shape[0]\n",
    "df_2018 = df[df[\"year\"]==2018]\n",
    "shape18 = df_2018.shape[0]\n",
    "df_2019 = df[df[\"year\"]==2019]\n",
    "shape19 = df_2019.shape[0]"
   ]
  },
  {
   "cell_type": "code",
   "execution_count": 4,
   "id": "6bfce713",
   "metadata": {},
   "outputs": [
    {
     "data": {
      "text/plain": [
       "mental_health_benefits\n",
       "Yes           0.414161\n",
       "Don't know    0.339476\n",
       "No            0.246363\n",
       "Name: count, dtype: float64"
      ]
     },
     "execution_count": 4,
     "metadata": {},
     "output_type": "execute_result"
    }
   ],
   "source": [
    "# whether their employer provides mental health benefits as part of healthcare coverage\n",
    "mentalhealthcarecoverage_2014 = df_2014[\"mental_health_benefits\"].value_counts()/shape14\n",
    "mentalhealthcarecoverage_2014"
   ]
  },
  {
   "cell_type": "code",
   "execution_count": 5,
   "id": "4f7e06a4",
   "metadata": {},
   "outputs": [
    {
     "data": {
      "text/plain": [
       "mental_health_benefits\n",
       "Yes           0.499529\n",
       "Don't know    0.299717\n",
       "No            0.200754\n",
       "Name: count, dtype: float64"
      ]
     },
     "execution_count": 5,
     "metadata": {},
     "output_type": "execute_result"
    }
   ],
   "source": [
    "mentalhealthcarecoverage_2016 = df_2016[df_2016[\"mental_health_benefits\"]!=\"Not eligible for coverage or N/A\"][\"mental_health_benefits\"]\n",
    "mentalhealthcarecoverage_2016 = mentalhealthcarecoverage_2016.value_counts()/mentalhealthcarecoverage_2016.shape[0]\n",
    "mentalhealthcarecoverage_2016\n"
   ]
  },
  {
   "cell_type": "code",
   "execution_count": 6,
   "id": "803a6401",
   "metadata": {},
   "outputs": [
    {
     "data": {
      "text/plain": [
       "mental_health_benefits\n",
       "Yes           0.581848\n",
       "Don't know    0.270665\n",
       "No            0.147488\n",
       "Name: count, dtype: float64"
      ]
     },
     "execution_count": 6,
     "metadata": {},
     "output_type": "execute_result"
    }
   ],
   "source": [
    "mentalhealthcarecoverage_2017 = df_2017[df_2017[\"mental_health_benefits\"]!=\"Not eligible for coverage or N/A\"][\"mental_health_benefits\"]\n",
    "mentalhealthcarecoverage_2017 = mentalhealthcarecoverage_2017.value_counts()/mentalhealthcarecoverage_2017.shape[0]\n",
    "mentalhealthcarecoverage_2017"
   ]
  },
  {
   "cell_type": "code",
   "execution_count": 7,
   "id": "4bccdcce",
   "metadata": {},
   "outputs": [
    {
     "data": {
      "text/plain": [
       "mental_health_benefits\n",
       "Yes           0.626471\n",
       "Don't know    0.250000\n",
       "No            0.123529\n",
       "Name: count, dtype: float64"
      ]
     },
     "execution_count": 7,
     "metadata": {},
     "output_type": "execute_result"
    }
   ],
   "source": [
    "mentalhealthcarecoverage_2018 = df_2018[df_2018[\"mental_health_benefits\"]!=\"Not eligible for coverage or N/A\"][\"mental_health_benefits\"]\n",
    "mentalhealthcarecoverage_2018 = mentalhealthcarecoverage_2018.value_counts()/mentalhealthcarecoverage_2018.shape[0]\n",
    "mentalhealthcarecoverage_2018"
   ]
  },
  {
   "cell_type": "code",
   "execution_count": 8,
   "id": "d640165f",
   "metadata": {},
   "outputs": [
    {
     "data": {
      "text/plain": [
       "mental_health_benefits\n",
       "Yes           0.573427\n",
       "Don't know    0.304196\n",
       "No            0.122378\n",
       "Name: count, dtype: float64"
      ]
     },
     "execution_count": 8,
     "metadata": {},
     "output_type": "execute_result"
    }
   ],
   "source": [
    "mentalhealthcarecoverage_2019 = df_2019[df_2019[\"mental_health_benefits\"]!=\"Not eligible for coverage or N/A\"][\"mental_health_benefits\"]\n",
    "mentalhealthcarecoverage_2019 = mentalhealthcarecoverage_2019.value_counts()/mentalhealthcarecoverage_2019.shape[0]\n",
    "mentalhealthcarecoverage_2019"
   ]
  },
  {
   "cell_type": "code",
   "execution_count": 9,
   "id": "32da5aa5",
   "metadata": {},
   "outputs": [
    {
     "data": {
      "text/plain": [
       "mental_health_benefits_awareness\n",
       "No          0.406402\n",
       "Yes         0.338506\n",
       "Not sure    0.255092\n",
       "Name: count, dtype: float64"
      ]
     },
     "execution_count": 9,
     "metadata": {},
     "output_type": "execute_result"
    }
   ],
   "source": [
    "# whether they are aware of the options for their mental health care available under their employer-provided coverage\n",
    "AwarenessOfOptions_2014 = df_2014[\"mental_health_benefits_awareness\"].value_counts()/shape14\n",
    "AwarenessOfOptions_2014"
   ]
  },
  {
   "cell_type": "code",
   "execution_count": 10,
   "id": "69cc994b",
   "metadata": {},
   "outputs": [
    {
     "data": {
      "text/plain": [
       "mental_health_benefits_awareness\n",
       "No          0.308566\n",
       "Not sure    0.307692\n",
       "Yes         0.267483\n",
       "Name: count, dtype: float64"
      ]
     },
     "execution_count": 10,
     "metadata": {},
     "output_type": "execute_result"
    }
   ],
   "source": [
    "AwarenessOfOptions_2016 = df_2016[\"mental_health_benefits_awareness\"].value_counts()/shape16\n",
    "AwarenessOfOptions_2016"
   ]
  },
  {
   "cell_type": "code",
   "execution_count": 11,
   "id": "ed3605f6",
   "metadata": {},
   "outputs": [
    {
     "data": {
      "text/plain": [
       "mental_health_benefits_awareness\n",
       "No     0.479005\n",
       "Yes    0.416796\n",
       "Name: count, dtype: float64"
      ]
     },
     "execution_count": 11,
     "metadata": {},
     "output_type": "execute_result"
    }
   ],
   "source": [
    "AwarenessOfOptions_2017 = df_2017[\"mental_health_benefits_awareness\"].value_counts()/shape17\n",
    "AwarenessOfOptions_2017"
   ]
  },
  {
   "cell_type": "code",
   "execution_count": 12,
   "id": "2214d239",
   "metadata": {},
   "outputs": [
    {
     "data": {
      "text/plain": [
       "mental_health_benefits_awareness\n",
       "Yes    0.454294\n",
       "No     0.443213\n",
       "Name: count, dtype: float64"
      ]
     },
     "execution_count": 12,
     "metadata": {},
     "output_type": "execute_result"
    }
   ],
   "source": [
    "AwarenessOfOptions_2018 = df_2018[\"mental_health_benefits_awareness\"].value_counts()/shape18\n",
    "AwarenessOfOptions_2018"
   ]
  },
  {
   "cell_type": "code",
   "execution_count": 13,
   "id": "cd974945",
   "metadata": {},
   "outputs": [
    {
     "data": {
      "text/plain": [
       "mental_health_benefits_awareness\n",
       "No     0.486842\n",
       "Yes    0.427632\n",
       "Name: count, dtype: float64"
      ]
     },
     "execution_count": 13,
     "metadata": {},
     "output_type": "execute_result"
    }
   ],
   "source": [
    "AwarenessOfOptions_2019 = df_2019[\"mental_health_benefits_awareness\"].value_counts()/shape19\n",
    "AwarenessOfOptions_2019"
   ]
  },
  {
   "cell_type": "code",
   "execution_count": null,
   "id": "c5329eed",
   "metadata": {},
   "outputs": [],
   "source": []
  },
  {
   "cell_type": "code",
   "execution_count": 34,
   "id": "5b01bba2",
   "metadata": {},
   "outputs": [
    {
     "data": {
      "text/plain": [
       "employer_mental_health_discussion\n",
       "No            0.660524\n",
       "Yes           0.185257\n",
       "Don't know    0.154219\n",
       "Name: count, dtype: float64"
      ]
     },
     "execution_count": 34,
     "metadata": {},
     "output_type": "execute_result"
    }
   ],
   "source": [
    "# whether their employer ever formally discussed mental health\n",
    "empDisc_2014 = df_2014[\"employer_mental_health_discussion\"].value_counts()/shape14\n",
    "empDisc_2014"
   ]
  },
  {
   "cell_type": "code",
   "execution_count": 35,
   "id": "38d90eb3",
   "metadata": {},
   "outputs": [
    {
     "data": {
      "text/plain": [
       "employer_mental_health_discussion\n",
       "No            0.708916\n",
       "Yes           0.201049\n",
       "Don't know    0.090035\n",
       "Name: count, dtype: float64"
      ]
     },
     "execution_count": 35,
     "metadata": {},
     "output_type": "execute_result"
    }
   ],
   "source": [
    "empDisc_2016 = df_2016[\"employer_mental_health_discussion\"].value_counts()/shape16\n",
    "empDisc_2016"
   ]
  },
  {
   "cell_type": "code",
   "execution_count": 36,
   "id": "6f777af7",
   "metadata": {},
   "outputs": [
    {
     "data": {
      "text/plain": [
       "employer_mental_health_discussion\n",
       "No            0.636081\n",
       "Yes           0.251944\n",
       "Don't know    0.111975\n",
       "Name: count, dtype: float64"
      ]
     },
     "execution_count": 36,
     "metadata": {},
     "output_type": "execute_result"
    }
   ],
   "source": [
    "empDisc_2017 = df_2017[\"employer_mental_health_discussion\"].value_counts()/shape17\n",
    "empDisc_2017"
   ]
  },
  {
   "cell_type": "code",
   "execution_count": 37,
   "id": "1281981d",
   "metadata": {},
   "outputs": [
    {
     "data": {
      "text/plain": [
       "employer_mental_health_discussion\n",
       "No            0.631579\n",
       "Yes           0.285319\n",
       "Don't know    0.083102\n",
       "Name: count, dtype: float64"
      ]
     },
     "execution_count": 37,
     "metadata": {},
     "output_type": "execute_result"
    }
   ],
   "source": [
    "empDisc_2018 = df_2018[\"employer_mental_health_discussion\"].value_counts()/shape18\n",
    "empDisc_2018"
   ]
  },
  {
   "cell_type": "code",
   "execution_count": 38,
   "id": "b89353f2",
   "metadata": {},
   "outputs": [
    {
     "data": {
      "text/plain": [
       "employer_mental_health_discussion\n",
       "No            0.578947\n",
       "Yes           0.342105\n",
       "Don't know    0.078947\n",
       "Name: count, dtype: float64"
      ]
     },
     "execution_count": 38,
     "metadata": {},
     "output_type": "execute_result"
    }
   ],
   "source": [
    "empDisc_2019 = df_2019[\"employer_mental_health_discussion\"].value_counts()/shape19\n",
    "empDisc_2019"
   ]
  },
  {
   "cell_type": "code",
   "execution_count": 41,
   "id": "7d13bb17",
   "metadata": {},
   "outputs": [
    {
     "data": {
      "text/plain": [
       "employer_mental_health_learning_resources\n",
       "No            0.483996\n",
       "Don't know    0.310378\n",
       "Yes           0.205626\n",
       "Name: count, dtype: float64"
      ]
     },
     "execution_count": 41,
     "metadata": {},
     "output_type": "execute_result"
    }
   ],
   "source": [
    "# whether their employer offer resources to learn more about mental health concerns and options for seeking help\n",
    "empRes_2014 = df_2014[\"employer_mental_health_learning_resources\"].value_counts()/shape14\n",
    "empRes_2014 "
   ]
  },
  {
   "cell_type": "code",
   "execution_count": 42,
   "id": "2e342fbb",
   "metadata": {},
   "outputs": [
    {
     "data": {
      "text/plain": [
       "employer_mental_health_learning_resources\n",
       "No            0.462413\n",
       "Don't know    0.279720\n",
       "Yes           0.257867\n",
       "Name: count, dtype: float64"
      ]
     },
     "execution_count": 42,
     "metadata": {},
     "output_type": "execute_result"
    }
   ],
   "source": [
    "empRes_2016 = df_2016[\"employer_mental_health_learning_resources\"].value_counts()/shape16\n",
    "empRes_2016"
   ]
  },
  {
   "cell_type": "code",
   "execution_count": 44,
   "id": "320caf1b",
   "metadata": {},
   "outputs": [
    {
     "data": {
      "text/plain": [
       "employer_mental_health_learning_resources\n",
       "No            0.433904\n",
       "Yes           0.292379\n",
       "Don't know    0.273717\n",
       "Name: count, dtype: float64"
      ]
     },
     "execution_count": 44,
     "metadata": {},
     "output_type": "execute_result"
    }
   ],
   "source": [
    "empRes_2017 = df_2017[\"employer_mental_health_learning_resources\"].value_counts()/shape17\n",
    "empRes_2017"
   ]
  },
  {
   "cell_type": "code",
   "execution_count": 46,
   "id": "dfcfdf12",
   "metadata": {},
   "outputs": [
    {
     "data": {
      "text/plain": [
       "employer_mental_health_learning_resources\n",
       "No            0.398892\n",
       "Yes           0.324100\n",
       "Don't know    0.277008\n",
       "Name: count, dtype: float64"
      ]
     },
     "execution_count": 46,
     "metadata": {},
     "output_type": "execute_result"
    }
   ],
   "source": [
    "empRes_2018 = df_2018[\"employer_mental_health_learning_resources\"].value_counts()/shape18\n",
    "empRes_2018"
   ]
  },
  {
   "cell_type": "code",
   "execution_count": 45,
   "id": "7a8c228a",
   "metadata": {},
   "outputs": [
    {
     "data": {
      "text/plain": [
       "employer_mental_health_learning_resources\n",
       "No            0.427632\n",
       "Yes           0.335526\n",
       "Don't know    0.236842\n",
       "Name: count, dtype: float64"
      ]
     },
     "execution_count": 45,
     "metadata": {},
     "output_type": "execute_result"
    }
   ],
   "source": [
    "empRes_2019 = df_2019[\"employer_mental_health_learning_resources\"].value_counts()/shape19\n",
    "empRes_2019"
   ]
  },
  {
   "cell_type": "code",
   "execution_count": null,
   "id": "b126568b",
   "metadata": {},
   "outputs": [],
   "source": []
  },
  {
   "cell_type": "code",
   "execution_count": null,
   "id": "97645f9d",
   "metadata": {},
   "outputs": [],
   "source": []
  },
  {
   "cell_type": "code",
   "execution_count": null,
   "id": "dd0842c4",
   "metadata": {},
   "outputs": [],
   "source": []
  },
  {
   "cell_type": "code",
   "execution_count": 27,
   "id": "3ad64fcf",
   "metadata": {},
   "outputs": [],
   "source": [
    "data = [\n",
    "    {'Year': 2014, 'Response': \"Yes\", 'mentalhealthcarecoverage': 0.414161, 'AwarenessOfOptions': 0.338506, 'empDisc': , 'empRes': },\n",
    "    {'Year': 2014, 'Response': \"No\", 'mentalhealthcarecoverage':  0.246363, 'AwarenessOfOptions': 0.406402, 'empDisc': , 'empRes': },\n",
    "    {'Year': 2014, 'Response': \"Don\\'t Know\", 'mentalhealthcarecoverage': 0.339476, 'AwarenessOfOptions': 0.255092, 'empDisc': , empRes':},\n",
    "    \n",
    "    {'Year': 2016, 'Response': \"Yes\", 'mentalhealthcarecoverage': 0.499529, 'AwarenessOfOptions': 0.267483, 'empDisc': , 'empRes': },\n",
    "    {'Year': 2016, 'Response': \"No\", 'mentalhealthcarecoverage': 0.200754, 'AwarenessOfOptions': 0.308566, 'empDisc': , 'empRes':},\n",
    "    {'Year': 2016, 'Response': \"Don\\'t Know\", 'mentalhealthcarecoverage': 0.299717, 'AwarenessOfOptions': 0.307692, 'empDisc': , 'empRes':},\n",
    "     \n",
    "    {'Year': 2017, 'Response': \"Yes\", 'mentalhealthcarecoverage': 0.581848, 'AwarenessOfOptions': 0.416796, 'empDisc': , 'empRes':},\n",
    "    {'Year': 2017, 'Response': \"No\", 'mentalhealthcarecoverage': 0.147488, 'AwarenessOfOptions': 0.479005, 'empDisc': , 'empRes':},\n",
    "    {'Year': 2017, 'Response': \"Don\\'t Know\", 'mentalhealthcarecoverage': 0.270665, 'AwarenessOfOptions': 0, 'empDisc': , 'empRes':},\n",
    "     \n",
    "    {'Year': 2018, 'Response': \"Yes\", 'mentalhealthcarecoverage': 0.626471, 'AwarenessOfOptions': 0.454294, 'empDisc': , 'empRes':},\n",
    "    {'Year': 2018, 'Response': \"No\", 'mentalhealthcarecoverage': 0.123529, 'AwarenessOfOptions': 0.443213, 'empDisc': , 'empRes':},\n",
    "    {'Year': 2018, 'Response': \"Don\\'t Know\", 'mentalhealthcarecoverage': 0.250000, 'AwarenessOfOptions': 0, 'empDisc': , 'empRes':},\n",
    "     \n",
    "    {'Year': 2019, 'Response': \"Yes\", 'mentalhealthcarecoverage':  0.573427, 'AwarenessOfOptions': 0.427632, 'empDisc': , 'empRes':},\n",
    "    {'Year': 2019, 'Response': \"No\", 'mentalhealthcarecoverage': 0.122378, 'AwarenessOfOptions': 0.486842, 'empDisc': , 'empRes':},\n",
    "    {'Year': 2019, 'Response': \"Don\\'t Know\", 'mentalhealthcarecoverage': 0.304196, 'AwarenessOfOptions': 0, 'empDisc': , 'empRes':},\n",
    "     \n",
    "]"
   ]
  },
  {
   "cell_type": "code",
   "execution_count": 28,
   "id": "afcfa5e8",
   "metadata": {},
   "outputs": [
    {
     "data": {
      "text/html": [
       "<div>\n",
       "<style scoped>\n",
       "    .dataframe tbody tr th:only-of-type {\n",
       "        vertical-align: middle;\n",
       "    }\n",
       "\n",
       "    .dataframe tbody tr th {\n",
       "        vertical-align: top;\n",
       "    }\n",
       "\n",
       "    .dataframe thead th {\n",
       "        text-align: right;\n",
       "    }\n",
       "</style>\n",
       "<table border=\"1\" class=\"dataframe\">\n",
       "  <thead>\n",
       "    <tr style=\"text-align: right;\">\n",
       "      <th></th>\n",
       "      <th>Year</th>\n",
       "      <th>Response</th>\n",
       "      <th>mentalhealthcarecoverage</th>\n",
       "      <th>AwarenessOfOptions</th>\n",
       "    </tr>\n",
       "  </thead>\n",
       "  <tbody>\n",
       "    <tr>\n",
       "      <th>0</th>\n",
       "      <td>2014</td>\n",
       "      <td>Yes</td>\n",
       "      <td>0.414161</td>\n",
       "      <td>0.338506</td>\n",
       "    </tr>\n",
       "    <tr>\n",
       "      <th>1</th>\n",
       "      <td>2014</td>\n",
       "      <td>No</td>\n",
       "      <td>0.246363</td>\n",
       "      <td>0.406402</td>\n",
       "    </tr>\n",
       "    <tr>\n",
       "      <th>2</th>\n",
       "      <td>2014</td>\n",
       "      <td>Don't Know</td>\n",
       "      <td>0.339476</td>\n",
       "      <td>0.255092</td>\n",
       "    </tr>\n",
       "    <tr>\n",
       "      <th>3</th>\n",
       "      <td>2016</td>\n",
       "      <td>Yes</td>\n",
       "      <td>0.499529</td>\n",
       "      <td>0.267483</td>\n",
       "    </tr>\n",
       "    <tr>\n",
       "      <th>4</th>\n",
       "      <td>2016</td>\n",
       "      <td>No</td>\n",
       "      <td>0.200754</td>\n",
       "      <td>0.308566</td>\n",
       "    </tr>\n",
       "    <tr>\n",
       "      <th>5</th>\n",
       "      <td>2016</td>\n",
       "      <td>Don't Know</td>\n",
       "      <td>0.299717</td>\n",
       "      <td>0.307692</td>\n",
       "    </tr>\n",
       "    <tr>\n",
       "      <th>6</th>\n",
       "      <td>2017</td>\n",
       "      <td>Yes</td>\n",
       "      <td>0.581848</td>\n",
       "      <td>0.416796</td>\n",
       "    </tr>\n",
       "    <tr>\n",
       "      <th>7</th>\n",
       "      <td>2017</td>\n",
       "      <td>No</td>\n",
       "      <td>0.147488</td>\n",
       "      <td>0.479005</td>\n",
       "    </tr>\n",
       "    <tr>\n",
       "      <th>8</th>\n",
       "      <td>2017</td>\n",
       "      <td>Don't Know</td>\n",
       "      <td>0.270665</td>\n",
       "      <td>0.000000</td>\n",
       "    </tr>\n",
       "    <tr>\n",
       "      <th>9</th>\n",
       "      <td>2018</td>\n",
       "      <td>Yes</td>\n",
       "      <td>0.626471</td>\n",
       "      <td>0.454294</td>\n",
       "    </tr>\n",
       "    <tr>\n",
       "      <th>10</th>\n",
       "      <td>2018</td>\n",
       "      <td>No</td>\n",
       "      <td>0.123529</td>\n",
       "      <td>0.443213</td>\n",
       "    </tr>\n",
       "    <tr>\n",
       "      <th>11</th>\n",
       "      <td>2018</td>\n",
       "      <td>Don't Know</td>\n",
       "      <td>0.250000</td>\n",
       "      <td>0.000000</td>\n",
       "    </tr>\n",
       "    <tr>\n",
       "      <th>12</th>\n",
       "      <td>2019</td>\n",
       "      <td>Yes</td>\n",
       "      <td>0.573427</td>\n",
       "      <td>0.427632</td>\n",
       "    </tr>\n",
       "    <tr>\n",
       "      <th>13</th>\n",
       "      <td>2019</td>\n",
       "      <td>No</td>\n",
       "      <td>0.122378</td>\n",
       "      <td>0.486842</td>\n",
       "    </tr>\n",
       "    <tr>\n",
       "      <th>14</th>\n",
       "      <td>2019</td>\n",
       "      <td>Don't Know</td>\n",
       "      <td>0.304196</td>\n",
       "      <td>0.000000</td>\n",
       "    </tr>\n",
       "  </tbody>\n",
       "</table>\n",
       "</div>"
      ],
      "text/plain": [
       "    Year    Response  mentalhealthcarecoverage  AwarenessOfOptions\n",
       "0   2014         Yes                  0.414161            0.338506\n",
       "1   2014          No                  0.246363            0.406402\n",
       "2   2014  Don't Know                  0.339476            0.255092\n",
       "3   2016         Yes                  0.499529            0.267483\n",
       "4   2016          No                  0.200754            0.308566\n",
       "5   2016  Don't Know                  0.299717            0.307692\n",
       "6   2017         Yes                  0.581848            0.416796\n",
       "7   2017          No                  0.147488            0.479005\n",
       "8   2017  Don't Know                  0.270665            0.000000\n",
       "9   2018         Yes                  0.626471            0.454294\n",
       "10  2018          No                  0.123529            0.443213\n",
       "11  2018  Don't Know                  0.250000            0.000000\n",
       "12  2019         Yes                  0.573427            0.427632\n",
       "13  2019          No                  0.122378            0.486842\n",
       "14  2019  Don't Know                  0.304196            0.000000"
      ]
     },
     "execution_count": 28,
     "metadata": {},
     "output_type": "execute_result"
    }
   ],
   "source": [
    "pd.DataFrame(data)"
   ]
  },
  {
   "cell_type": "code",
   "execution_count": null,
   "id": "249e8472",
   "metadata": {},
   "outputs": [],
   "source": []
  },
  {
   "cell_type": "code",
   "execution_count": null,
   "id": "7d80ad1b",
   "metadata": {},
   "outputs": [],
   "source": []
  },
  {
   "cell_type": "code",
   "execution_count": null,
   "id": "63fb1f22",
   "metadata": {},
   "outputs": [],
   "source": []
  },
  {
   "cell_type": "code",
   "execution_count": null,
   "id": "3c9ef263",
   "metadata": {},
   "outputs": [],
   "source": []
  },
  {
   "cell_type": "code",
   "execution_count": null,
   "id": "2e9de405",
   "metadata": {},
   "outputs": [],
   "source": []
  },
  {
   "cell_type": "code",
   "execution_count": null,
   "id": "5d755f6c",
   "metadata": {},
   "outputs": [],
   "source": []
  },
  {
   "cell_type": "code",
   "execution_count": null,
   "id": "d16648ee",
   "metadata": {},
   "outputs": [],
   "source": []
  },
  {
   "cell_type": "code",
   "execution_count": null,
   "id": "3139cd7f",
   "metadata": {},
   "outputs": [],
   "source": []
  },
  {
   "cell_type": "code",
   "execution_count": null,
   "id": "b102f903",
   "metadata": {},
   "outputs": [],
   "source": []
  },
  {
   "cell_type": "code",
   "execution_count": null,
   "id": "037bf214",
   "metadata": {},
   "outputs": [],
   "source": []
  },
  {
   "cell_type": "code",
   "execution_count": null,
   "id": "dbacd8d2",
   "metadata": {},
   "outputs": [],
   "source": [
    "# data = [\n",
    "#     {'Type':'mentalhealthcarecoverage', 'Year': 2014, 'Yes': 0.414161, 'Don\\'t Know': 0.339476 , 'No': 0.246363},\n",
    "#     {'Type':'mentalhealthcarecoverage', 'Year': 2016, 'Yes': 0.499529, 'Don\\'t Know': 0.299717, 'No': 0.200754},\n",
    "#     {'Type':'mentalhealthcarecoverage', 'Year': 2017, 'Yes': 0.581848, 'Don\\'t Know': 0.270665, 'No': 0.147488},\n",
    "#     {'Type':'mentalhealthcarecoverage', 'Year': 2018, 'Yes': 0.626471, 'Don\\'t Know': 0.250000, 'No': 0.123529},\n",
    "#     {'Type':'mentalhealthcarecoverage', 'Year': 2019, 'Yes': 0.573427, 'Don\\'t Know': 0.304196, 'No': 0.122378},\n",
    "    \n",
    "#     {'Type':'AwarenessOfOptions', 'Year': 2014, 'Yes': 0.267483, 'Don\\'t Know': 0.307692 , 'No': 0.308566},\n",
    "#     {'Type':'AwarenessOfOptions', 'Year': 2016, 'Yes': 0.499529, 'Don\\'t Know': 0.299717, 'No': },\n",
    "#     {'Type':'AwarenessOfOptions', 'Year': 2017, 'Yes': 0.581848, 'Don\\'t Know': 0.270665, 'No': 0.147488},\n",
    "#     {'Type':'AwarenessOfOptions', 'Year': 2018, 'Yes': 0.626471, 'Don\\'t Know': 0.250000, 'No': 0.123529},\n",
    "#     {'Type':'AwarenessOfOptions', 'Year': 2019, 'Yes': 0.573427, 'Don\\'t Know': 0.304196, 'No': 0.122378},\n",
    "# ]"
   ]
  }
 ],
 "metadata": {
  "kernelspec": {
   "display_name": "Python 3 (ipykernel)",
   "language": "python",
   "name": "python3"
  },
  "language_info": {
   "codemirror_mode": {
    "name": "ipython",
    "version": 3
   },
   "file_extension": ".py",
   "mimetype": "text/x-python",
   "name": "python",
   "nbconvert_exporter": "python",
   "pygments_lexer": "ipython3",
   "version": "3.11.7"
  }
 },
 "nbformat": 4,
 "nbformat_minor": 5
}
