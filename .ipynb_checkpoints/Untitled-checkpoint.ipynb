{
 "cells": [
  {
   "cell_type": "code",
   "execution_count": 2,
   "id": "6438a5f5",
   "metadata": {},
   "outputs": [],
   "source": [
    "import pandas as pd"
   ]
  },
  {
   "cell_type": "code",
   "execution_count": 4,
   "id": "04076629",
   "metadata": {},
   "outputs": [
    {
     "data": {
      "text/html": [
       "<div>\n",
       "<style scoped>\n",
       "    .dataframe tbody tr th:only-of-type {\n",
       "        vertical-align: middle;\n",
       "    }\n",
       "\n",
       "    .dataframe tbody tr th {\n",
       "        vertical-align: top;\n",
       "    }\n",
       "\n",
       "    .dataframe thead th {\n",
       "        text-align: right;\n",
       "    }\n",
       "</style>\n",
       "<table border=\"1\" class=\"dataframe\">\n",
       "  <thead>\n",
       "    <tr style=\"text-align: right;\">\n",
       "      <th></th>\n",
       "      <th>year</th>\n",
       "      <th>self_employed</th>\n",
       "      <th>number_of_employees</th>\n",
       "      <th>tech_company</th>\n",
       "      <th>mental_health_benefits</th>\n",
       "      <th>mental_health_benefits_awareness</th>\n",
       "      <th>employer_mental_health_discussion</th>\n",
       "      <th>employer_mental_health_learning_resources</th>\n",
       "      <th>mental_health_treatment_anonymity</th>\n",
       "      <th>mental_health_leave_accessibility</th>\n",
       "      <th>mental_health_discussion_comfort_coworkers</th>\n",
       "      <th>mental_health_discussion_comfort_supervisor</th>\n",
       "    </tr>\n",
       "  </thead>\n",
       "  <tbody>\n",
       "    <tr>\n",
       "      <th>0</th>\n",
       "      <td>2014</td>\n",
       "      <td>No</td>\n",
       "      <td>100-500</td>\n",
       "      <td>Yes</td>\n",
       "      <td>Yes</td>\n",
       "      <td>Yes</td>\n",
       "      <td>No</td>\n",
       "      <td>No</td>\n",
       "      <td>No</td>\n",
       "      <td>Somewhat difficult</td>\n",
       "      <td>Some of them</td>\n",
       "      <td>Some of them</td>\n",
       "    </tr>\n",
       "    <tr>\n",
       "      <th>1</th>\n",
       "      <td>2014</td>\n",
       "      <td>No</td>\n",
       "      <td>26-100</td>\n",
       "      <td>Yes</td>\n",
       "      <td>Yes</td>\n",
       "      <td>Yes</td>\n",
       "      <td>No</td>\n",
       "      <td>No</td>\n",
       "      <td>Don't know</td>\n",
       "      <td>Don't know</td>\n",
       "      <td>Some of them</td>\n",
       "      <td>Yes</td>\n",
       "    </tr>\n",
       "    <tr>\n",
       "      <th>2</th>\n",
       "      <td>2014</td>\n",
       "      <td>No</td>\n",
       "      <td>More than 1000</td>\n",
       "      <td>No</td>\n",
       "      <td>Don't know</td>\n",
       "      <td>No</td>\n",
       "      <td>No</td>\n",
       "      <td>Don't know</td>\n",
       "      <td>Don't know</td>\n",
       "      <td>Don't know</td>\n",
       "      <td>No</td>\n",
       "      <td>No</td>\n",
       "    </tr>\n",
       "    <tr>\n",
       "      <th>3</th>\n",
       "      <td>2014</td>\n",
       "      <td>No</td>\n",
       "      <td>26-100</td>\n",
       "      <td>Yes</td>\n",
       "      <td>Yes</td>\n",
       "      <td>Not sure</td>\n",
       "      <td>Don't know</td>\n",
       "      <td>Yes</td>\n",
       "      <td>Yes</td>\n",
       "      <td>Don't know</td>\n",
       "      <td>Yes</td>\n",
       "      <td>Yes</td>\n",
       "    </tr>\n",
       "    <tr>\n",
       "      <th>4</th>\n",
       "      <td>2014</td>\n",
       "      <td>No</td>\n",
       "      <td>More than 1000</td>\n",
       "      <td>No</td>\n",
       "      <td>Yes</td>\n",
       "      <td>Yes</td>\n",
       "      <td>No</td>\n",
       "      <td>Don't know</td>\n",
       "      <td>No</td>\n",
       "      <td>Very easy</td>\n",
       "      <td>Some of them</td>\n",
       "      <td>Yes</td>\n",
       "    </tr>\n",
       "    <tr>\n",
       "      <th>...</th>\n",
       "      <td>...</td>\n",
       "      <td>...</td>\n",
       "      <td>...</td>\n",
       "      <td>...</td>\n",
       "      <td>...</td>\n",
       "      <td>...</td>\n",
       "      <td>...</td>\n",
       "      <td>...</td>\n",
       "      <td>...</td>\n",
       "      <td>...</td>\n",
       "      <td>...</td>\n",
       "      <td>...</td>\n",
       "    </tr>\n",
       "    <tr>\n",
       "      <th>3478</th>\n",
       "      <td>2019</td>\n",
       "      <td>No</td>\n",
       "      <td>26-100</td>\n",
       "      <td>Yes</td>\n",
       "      <td>Yes</td>\n",
       "      <td>No</td>\n",
       "      <td>No</td>\n",
       "      <td>No</td>\n",
       "      <td>Yes</td>\n",
       "      <td>Very easy</td>\n",
       "      <td>Yes</td>\n",
       "      <td>Yes</td>\n",
       "    </tr>\n",
       "    <tr>\n",
       "      <th>3479</th>\n",
       "      <td>2019</td>\n",
       "      <td>No</td>\n",
       "      <td>6-25</td>\n",
       "      <td>Yes</td>\n",
       "      <td>No</td>\n",
       "      <td>No</td>\n",
       "      <td>No</td>\n",
       "      <td>No</td>\n",
       "      <td>Don't know</td>\n",
       "      <td>Very easy</td>\n",
       "      <td>No</td>\n",
       "      <td>Maybe</td>\n",
       "    </tr>\n",
       "    <tr>\n",
       "      <th>3480</th>\n",
       "      <td>2019</td>\n",
       "      <td>No</td>\n",
       "      <td>More than 1000</td>\n",
       "      <td>No</td>\n",
       "      <td>Don't know</td>\n",
       "      <td>No</td>\n",
       "      <td>No</td>\n",
       "      <td>Don't know</td>\n",
       "      <td>Don't know</td>\n",
       "      <td>Somewhat difficult</td>\n",
       "      <td>No</td>\n",
       "      <td>No</td>\n",
       "    </tr>\n",
       "    <tr>\n",
       "      <th>3481</th>\n",
       "      <td>2019</td>\n",
       "      <td>No</td>\n",
       "      <td>More than 1000</td>\n",
       "      <td>Yes</td>\n",
       "      <td>No</td>\n",
       "      <td>No</td>\n",
       "      <td>No</td>\n",
       "      <td>No</td>\n",
       "      <td>Yes</td>\n",
       "      <td>Difficult</td>\n",
       "      <td>Maybe</td>\n",
       "      <td>No</td>\n",
       "    </tr>\n",
       "    <tr>\n",
       "      <th>3482</th>\n",
       "      <td>2019</td>\n",
       "      <td>No</td>\n",
       "      <td>More than 1000</td>\n",
       "      <td>Yes</td>\n",
       "      <td>Yes</td>\n",
       "      <td>Yes</td>\n",
       "      <td>No</td>\n",
       "      <td>Yes</td>\n",
       "      <td>Yes</td>\n",
       "      <td>Somewhat difficult</td>\n",
       "      <td>No</td>\n",
       "      <td>Maybe</td>\n",
       "    </tr>\n",
       "  </tbody>\n",
       "</table>\n",
       "<p>3483 rows × 12 columns</p>\n",
       "</div>"
      ],
      "text/plain": [
       "      year self_employed number_of_employees tech_company  \\\n",
       "0     2014            No             100-500          Yes   \n",
       "1     2014            No              26-100          Yes   \n",
       "2     2014            No      More than 1000           No   \n",
       "3     2014            No              26-100          Yes   \n",
       "4     2014            No      More than 1000           No   \n",
       "...    ...           ...                 ...          ...   \n",
       "3478  2019            No              26-100          Yes   \n",
       "3479  2019            No                6-25          Yes   \n",
       "3480  2019            No      More than 1000           No   \n",
       "3481  2019            No      More than 1000          Yes   \n",
       "3482  2019            No      More than 1000          Yes   \n",
       "\n",
       "     mental_health_benefits mental_health_benefits_awareness  \\\n",
       "0                       Yes                              Yes   \n",
       "1                       Yes                              Yes   \n",
       "2                Don't know                               No   \n",
       "3                       Yes                         Not sure   \n",
       "4                       Yes                              Yes   \n",
       "...                     ...                              ...   \n",
       "3478                    Yes                               No   \n",
       "3479                     No                               No   \n",
       "3480             Don't know                               No   \n",
       "3481                     No                               No   \n",
       "3482                    Yes                              Yes   \n",
       "\n",
       "     employer_mental_health_discussion  \\\n",
       "0                                   No   \n",
       "1                                   No   \n",
       "2                                   No   \n",
       "3                           Don't know   \n",
       "4                                   No   \n",
       "...                                ...   \n",
       "3478                                No   \n",
       "3479                                No   \n",
       "3480                                No   \n",
       "3481                                No   \n",
       "3482                                No   \n",
       "\n",
       "     employer_mental_health_learning_resources  \\\n",
       "0                                           No   \n",
       "1                                           No   \n",
       "2                                   Don't know   \n",
       "3                                          Yes   \n",
       "4                                   Don't know   \n",
       "...                                        ...   \n",
       "3478                                        No   \n",
       "3479                                        No   \n",
       "3480                                Don't know   \n",
       "3481                                        No   \n",
       "3482                                       Yes   \n",
       "\n",
       "     mental_health_treatment_anonymity mental_health_leave_accessibility  \\\n",
       "0                                   No                Somewhat difficult   \n",
       "1                           Don't know                        Don't know   \n",
       "2                           Don't know                        Don't know   \n",
       "3                                  Yes                        Don't know   \n",
       "4                                   No                         Very easy   \n",
       "...                                ...                               ...   \n",
       "3478                               Yes                         Very easy   \n",
       "3479                        Don't know                         Very easy   \n",
       "3480                        Don't know                Somewhat difficult   \n",
       "3481                               Yes                         Difficult   \n",
       "3482                               Yes                Somewhat difficult   \n",
       "\n",
       "     mental_health_discussion_comfort_coworkers  \\\n",
       "0                                  Some of them   \n",
       "1                                  Some of them   \n",
       "2                                            No   \n",
       "3                                           Yes   \n",
       "4                                  Some of them   \n",
       "...                                         ...   \n",
       "3478                                        Yes   \n",
       "3479                                         No   \n",
       "3480                                         No   \n",
       "3481                                      Maybe   \n",
       "3482                                         No   \n",
       "\n",
       "     mental_health_discussion_comfort_supervisor  \n",
       "0                                   Some of them  \n",
       "1                                            Yes  \n",
       "2                                             No  \n",
       "3                                            Yes  \n",
       "4                                            Yes  \n",
       "...                                          ...  \n",
       "3478                                         Yes  \n",
       "3479                                       Maybe  \n",
       "3480                                          No  \n",
       "3481                                          No  \n",
       "3482                                       Maybe  \n",
       "\n",
       "[3483 rows x 12 columns]"
      ]
     },
     "execution_count": 4,
     "metadata": {},
     "output_type": "execute_result"
    }
   ],
   "source": [
    "df = pd.read_csv(\"Mental health in tech survey 2014-2019.csv\")\n",
    "df"
   ]
  },
  {
   "cell_type": "code",
   "execution_count": 37,
   "id": "7a55c79e",
   "metadata": {},
   "outputs": [],
   "source": [
    "df_2014 = df[df[\"year\"]==2014]\n",
    "shape14 = df_2014.shape[0]\n",
    "df_2016 = df[df[\"year\"]==2016]\n",
    "shape16 = df_2016.shape[0]\n",
    "df_2017 = df[df[\"year\"]==2017]\n",
    "shape17 = df_2017.shape[0]\n",
    "df_2018 = df[df[\"year\"]==2018]\n",
    "shape18 = df_2018.shape[0]\n",
    "df_2019 = df[df[\"year\"]==2019]\n",
    "shape19 = df_2019.shape[0]"
   ]
  },
  {
   "cell_type": "code",
   "execution_count": 54,
   "id": "9919b08f",
   "metadata": {},
   "outputs": [
    {
     "data": {
      "text/plain": [
       "mental_health_benefits\n",
       "Yes           0.414161\n",
       "Don't know    0.339476\n",
       "No            0.246363\n",
       "Name: count, dtype: float64"
      ]
     },
     "execution_count": 54,
     "metadata": {},
     "output_type": "execute_result"
    }
   ],
   "source": [
    "# whether their employer provides mental health benefits as part of healthcare coverage\n",
    "mentalhealthcarecoverage_2014 = df_2014[\"mental_health_benefits\"].value_counts()/shape14\n",
    "mentalhealthcarecoverage_2014"
   ]
  },
  {
   "cell_type": "code",
   "execution_count": 60,
   "id": "bf63bc06",
   "metadata": {},
   "outputs": [
    {
     "data": {
      "text/plain": [
       "mental_health_benefits\n",
       "Yes           0.499529\n",
       "Don't know    0.299717\n",
       "No            0.200754\n",
       "Name: count, dtype: float64"
      ]
     },
     "execution_count": 60,
     "metadata": {},
     "output_type": "execute_result"
    }
   ],
   "source": [
    "mentalhealthcarecoverage_2016 = df_2016[df_2016[\"mental_health_benefits\"]!=\"Not eligible for coverage or N/A\"][\"mental_health_benefits\"]\n",
    "mentalhealthcarecoverage_2016 = mentalhealthcarecoverage_2016.value_counts()/mentalhealthcarecoverage_2016.shape[0]\n",
    "mentalhealthcarecoverage_2016\n"
   ]
  },
  {
   "cell_type": "code",
   "execution_count": 64,
   "id": "b8488739",
   "metadata": {},
   "outputs": [
    {
     "data": {
      "text/plain": [
       "mental_health_benefits\n",
       "Yes           0.581848\n",
       "Don't know    0.270665\n",
       "No            0.147488\n",
       "Name: count, dtype: float64"
      ]
     },
     "execution_count": 64,
     "metadata": {},
     "output_type": "execute_result"
    }
   ],
   "source": [
    "mentalhealthcarecoverage_2017 = df_2017[df_2017[\"mental_health_benefits\"]!=\"Not eligible for coverage or N/A\"][\"mental_health_benefits\"]\n",
    "mentalhealthcarecoverage_2017 = mentalhealthcarecoverage_2017.value_counts()/mentalhealthcarecoverage_2017.shape[0]\n",
    "mentalhealthcarecoverage_2017"
   ]
  },
  {
   "cell_type": "code",
   "execution_count": 67,
   "id": "dea7c199",
   "metadata": {},
   "outputs": [
    {
     "data": {
      "text/plain": [
       "mental_health_benefits\n",
       "Yes           0.626471\n",
       "Don't know    0.250000\n",
       "No            0.123529\n",
       "Name: count, dtype: float64"
      ]
     },
     "execution_count": 67,
     "metadata": {},
     "output_type": "execute_result"
    }
   ],
   "source": [
    "mentalhealthcarecoverage_2018 = df_2018[df_2018[\"mental_health_benefits\"]!=\"Not eligible for coverage or N/A\"][\"mental_health_benefits\"]\n",
    "mentalhealthcarecoverage_2018 = mentalhealthcarecoverage_2018.value_counts()/mentalhealthcarecoverage_2018.shape[0]\n",
    "mentalhealthcarecoverage_2018"
   ]
  },
  {
   "cell_type": "code",
   "execution_count": 69,
   "id": "4dc649b9",
   "metadata": {},
   "outputs": [
    {
     "data": {
      "text/plain": [
       "mental_health_benefits\n",
       "Yes           0.573427\n",
       "Don't know    0.304196\n",
       "No            0.122378\n",
       "Name: count, dtype: float64"
      ]
     },
     "execution_count": 69,
     "metadata": {},
     "output_type": "execute_result"
    }
   ],
   "source": [
    "mentalhealthcarecoverage_2019 = df_2019[df_2019[\"mental_health_benefits\"]!=\"Not eligible for coverage or N/A\"][\"mental_health_benefits\"]\n",
    "mentalhealthcarecoverage_2019 = mentalhealthcarecoverage_2019.value_counts()/mentalhealthcarecoverage_2019.shape[0]\n",
    "mentalhealthcarecoverage_2019"
   ]
  },
  {
   "cell_type": "code",
   "execution_count": 79,
   "id": "71f60fa3",
   "metadata": {},
   "outputs": [
    {
     "data": {
      "text/plain": [
       "mental_health_benefits_awareness\n",
       "No          0.406402\n",
       "Yes         0.338506\n",
       "Not sure    0.255092\n",
       "Name: count, dtype: float64"
      ]
     },
     "execution_count": 79,
     "metadata": {},
     "output_type": "execute_result"
    }
   ],
   "source": [
    "# whether they are aware of the options for their mental health care available under their employer-provided coverage\n",
    "AwarenessOfOptions_2014 = df_2014[\"mental_health_benefits_awareness\"].value_counts()/shape14\n",
    "AwarenessOfOptions_2014"
   ]
  },
  {
   "cell_type": "code",
   "execution_count": 81,
   "id": "df2071c9",
   "metadata": {},
   "outputs": [
    {
     "data": {
      "text/plain": [
       "mental_health_benefits_awareness\n",
       "No          0.308566\n",
       "Not sure    0.307692\n",
       "Yes         0.267483\n",
       "Name: count, dtype: float64"
      ]
     },
     "execution_count": 81,
     "metadata": {},
     "output_type": "execute_result"
    }
   ],
   "source": [
    "AwarenessOfOptions_2016 = df_2016[\"mental_health_benefits_awareness\"].value_counts()/shape16\n",
    "AwarenessOfOptions_2016"
   ]
  },
  {
   "cell_type": "code",
   "execution_count": 82,
   "id": "2e838004",
   "metadata": {},
   "outputs": [
    {
     "data": {
      "text/plain": [
       "mental_health_benefits_awareness\n",
       "No     0.479005\n",
       "Yes    0.416796\n",
       "Name: count, dtype: float64"
      ]
     },
     "execution_count": 82,
     "metadata": {},
     "output_type": "execute_result"
    }
   ],
   "source": [
    "AwarenessOfOptions_2017 = df_2017[\"mental_health_benefits_awareness\"].value_counts()/shape17\n",
    "AwarenessOfOptions_2017"
   ]
  },
  {
   "cell_type": "code",
   "execution_count": 83,
   "id": "bf11da0f",
   "metadata": {},
   "outputs": [
    {
     "data": {
      "text/plain": [
       "mental_health_benefits_awareness\n",
       "Yes    0.454294\n",
       "No     0.443213\n",
       "Name: count, dtype: float64"
      ]
     },
     "execution_count": 83,
     "metadata": {},
     "output_type": "execute_result"
    }
   ],
   "source": [
    "AwarenessOfOptions_2018 = df_2018[\"mental_health_benefits_awareness\"].value_counts()/shape18\n",
    "AwarenessOfOptions_2018"
   ]
  },
  {
   "cell_type": "code",
   "execution_count": 84,
   "id": "a123f5ab",
   "metadata": {},
   "outputs": [
    {
     "data": {
      "text/plain": [
       "mental_health_benefits_awareness\n",
       "No     0.486842\n",
       "Yes    0.427632\n",
       "Name: count, dtype: float64"
      ]
     },
     "execution_count": 84,
     "metadata": {},
     "output_type": "execute_result"
    }
   ],
   "source": [
    "AwarenessOfOptions_2019 = df_2019[\"mental_health_benefits_awareness\"].value_counts()/shape19\n",
    "AwarenessOfOptions_2019"
   ]
  },
  {
   "cell_type": "code",
   "execution_count": 89,
   "id": "68ed60e3",
   "metadata": {},
   "outputs": [
    {
     "data": {
      "text/plain": [
       "mental_health_benefits_awareness\n",
       "No          0.308566\n",
       "Not sure    0.307692\n",
       "Yes         0.267483\n",
       "Name: count, dtype: float64"
      ]
     },
     "execution_count": 89,
     "metadata": {},
     "output_type": "execute_result"
    }
   ],
   "source": [
    "mentalhealthcarecoverage_2014"
   ]
  },
  {
   "cell_type": "code",
   "execution_count": null,
   "id": "dc403cc9",
   "metadata": {},
   "outputs": [],
   "source": [
    "data = [\n",
    "    {'Year': 2014, 'Response': \"Yes\", 'mentalhealthcarecoverage': , 'AwarenessOfOptions': ),\n",
    "    {'Year': 2014, 'Response': \"No\", 'mentalhealthcarecoverage': , 'AwarenessOfOptions': ),\n",
    "    {'Year': 2014, 'Response': \"Don\\'t Know\", 'mentalhealthcarecoverage': , 'AwarenessOfOptions': ),\n",
    "    \n",
    "    {'Year': 2016, 'Response': \"Yes\", 'mentalhealthcarecoverage': , 'AwarenessOfOptions': ),\n",
    "    {'Year': 2016, 'Response': \"No\", 'mentalhealthcarecoverage': , 'AwarenessOfOptions': ),\n",
    "    {'Year': 2016, 'Response': \"Don\\'t Know\", 'mentalhealthcarecoverage': , 'AwarenessOfOptions': ),\n",
    "     \n",
    "    {'Year': 2017, 'Response': \"Yes\", 'mentalhealthcarecoverage': , 'AwarenessOfOptions': ),\n",
    "    {'Year': 2017, 'Response': \"No\", 'mentalhealthcarecoverage': , 'AwarenessOfOptions': ),\n",
    "    {'Year': 2017, 'Response': \"Don\\'t Know\", 'mentalhealthcarecoverage': , 'AwarenessOfOptions': ),\n",
    "     \n",
    "    {'Year': 2018, 'Response': \"Yes\", 'mentalhealthcarecoverage': , 'AwarenessOfOptions': ),\n",
    "    {'Year': 2018, 'Response': \"No\", 'mentalhealthcarecoverage': , 'AwarenessOfOptions': ),\n",
    "    {'Year': 2018, 'Response': \"Don\\'t Know\", 'mentalhealthcarecoverage': , 'AwarenessOfOptions': ),\n",
    "     \n",
    "    {'Year': 2019, 'Response': \"Yes\", 'mentalhealthcarecoverage': , 'AwarenessOfOptions': ),\n",
    "    {'Year': 2019, 'Response': \"No\", 'mentalhealthcarecoverage': , 'AwarenessOfOptions': ),\n",
    "    {'Year': 2019, 'Response': \"Don\\'t Know\", 'mentalhealthcarecoverage': , 'AwarenessOfOptions': ),\n",
    "     \n",
    "]"
   ]
  },
  {
   "cell_type": "code",
   "execution_count": 93,
   "id": "a05fc843",
   "metadata": {},
   "outputs": [
    {
     "data": {
      "text/html": [
       "<div>\n",
       "<style scoped>\n",
       "    .dataframe tbody tr th:only-of-type {\n",
       "        vertical-align: middle;\n",
       "    }\n",
       "\n",
       "    .dataframe tbody tr th {\n",
       "        vertical-align: top;\n",
       "    }\n",
       "\n",
       "    .dataframe thead th {\n",
       "        text-align: right;\n",
       "    }\n",
       "</style>\n",
       "<table border=\"1\" class=\"dataframe\">\n",
       "  <thead>\n",
       "    <tr style=\"text-align: right;\">\n",
       "      <th></th>\n",
       "      <th>Type</th>\n",
       "      <th>Year</th>\n",
       "      <th>Yes</th>\n",
       "      <th>Don't Know</th>\n",
       "      <th>No</th>\n",
       "    </tr>\n",
       "  </thead>\n",
       "  <tbody>\n",
       "    <tr>\n",
       "      <th>0</th>\n",
       "      <td>mentalhealthcarecoverage</td>\n",
       "      <td>2014</td>\n",
       "      <td>0.414161</td>\n",
       "      <td>0.339476</td>\n",
       "      <td>0.246363</td>\n",
       "    </tr>\n",
       "    <tr>\n",
       "      <th>1</th>\n",
       "      <td>mentalhealthcarecoverage</td>\n",
       "      <td>2016</td>\n",
       "      <td>0.499529</td>\n",
       "      <td>0.299717</td>\n",
       "      <td>0.200754</td>\n",
       "    </tr>\n",
       "    <tr>\n",
       "      <th>2</th>\n",
       "      <td>mentalhealthcarecoverage</td>\n",
       "      <td>2017</td>\n",
       "      <td>0.581848</td>\n",
       "      <td>0.270665</td>\n",
       "      <td>0.147488</td>\n",
       "    </tr>\n",
       "    <tr>\n",
       "      <th>3</th>\n",
       "      <td>mentalhealthcarecoverage</td>\n",
       "      <td>2018</td>\n",
       "      <td>0.626471</td>\n",
       "      <td>0.250000</td>\n",
       "      <td>0.123529</td>\n",
       "    </tr>\n",
       "    <tr>\n",
       "      <th>4</th>\n",
       "      <td>mentalhealthcarecoverage</td>\n",
       "      <td>2019</td>\n",
       "      <td>0.573427</td>\n",
       "      <td>0.304196</td>\n",
       "      <td>0.122378</td>\n",
       "    </tr>\n",
       "    <tr>\n",
       "      <th>5</th>\n",
       "      <td>AwarenessOfOptions</td>\n",
       "      <td>2014</td>\n",
       "      <td>0.414161</td>\n",
       "      <td>0.339476</td>\n",
       "      <td>0.308566</td>\n",
       "    </tr>\n",
       "    <tr>\n",
       "      <th>6</th>\n",
       "      <td>AwarenessOfOptions</td>\n",
       "      <td>2016</td>\n",
       "      <td>0.499529</td>\n",
       "      <td>0.299717</td>\n",
       "      <td>0.200754</td>\n",
       "    </tr>\n",
       "    <tr>\n",
       "      <th>7</th>\n",
       "      <td>AwarenessOfOptions</td>\n",
       "      <td>2017</td>\n",
       "      <td>0.581848</td>\n",
       "      <td>0.270665</td>\n",
       "      <td>0.147488</td>\n",
       "    </tr>\n",
       "    <tr>\n",
       "      <th>8</th>\n",
       "      <td>AwarenessOfOptions</td>\n",
       "      <td>2018</td>\n",
       "      <td>0.626471</td>\n",
       "      <td>0.250000</td>\n",
       "      <td>0.123529</td>\n",
       "    </tr>\n",
       "    <tr>\n",
       "      <th>9</th>\n",
       "      <td>AwarenessOfOptions</td>\n",
       "      <td>2019</td>\n",
       "      <td>0.573427</td>\n",
       "      <td>0.304196</td>\n",
       "      <td>0.122378</td>\n",
       "    </tr>\n",
       "  </tbody>\n",
       "</table>\n",
       "</div>"
      ],
      "text/plain": [
       "                       Type  Year       Yes  Don't Know        No\n",
       "0  mentalhealthcarecoverage  2014  0.414161    0.339476  0.246363\n",
       "1  mentalhealthcarecoverage  2016  0.499529    0.299717  0.200754\n",
       "2  mentalhealthcarecoverage  2017  0.581848    0.270665  0.147488\n",
       "3  mentalhealthcarecoverage  2018  0.626471    0.250000  0.123529\n",
       "4  mentalhealthcarecoverage  2019  0.573427    0.304196  0.122378\n",
       "5        AwarenessOfOptions  2014  0.414161    0.339476  0.308566\n",
       "6        AwarenessOfOptions  2016  0.499529    0.299717  0.200754\n",
       "7        AwarenessOfOptions  2017  0.581848    0.270665  0.147488\n",
       "8        AwarenessOfOptions  2018  0.626471    0.250000  0.123529\n",
       "9        AwarenessOfOptions  2019  0.573427    0.304196  0.122378"
      ]
     },
     "execution_count": 93,
     "metadata": {},
     "output_type": "execute_result"
    }
   ],
   "source": [
    "pd.DataFrame(data)"
   ]
  },
  {
   "cell_type": "code",
   "execution_count": null,
   "id": "b981f563",
   "metadata": {},
   "outputs": [],
   "source": []
  },
  {
   "cell_type": "code",
   "execution_count": null,
   "id": "f14a2b3b",
   "metadata": {},
   "outputs": [],
   "source": []
  },
  {
   "cell_type": "code",
   "execution_count": null,
   "id": "f9a22e64",
   "metadata": {},
   "outputs": [],
   "source": []
  },
  {
   "cell_type": "code",
   "execution_count": 92,
   "id": "7aa3ed6d",
   "metadata": {},
   "outputs": [],
   "source": [
    "# data = [\n",
    "#     {'Type':'mentalhealthcarecoverage', 'Year': 2014, 'Yes': 0.414161, 'Don\\'t Know': 0.339476 , 'No': 0.246363},\n",
    "#     {'Type':'mentalhealthcarecoverage', 'Year': 2016, 'Yes': 0.499529, 'Don\\'t Know': 0.299717, 'No': 0.200754},\n",
    "#     {'Type':'mentalhealthcarecoverage', 'Year': 2017, 'Yes': 0.581848, 'Don\\'t Know': 0.270665, 'No': 0.147488},\n",
    "#     {'Type':'mentalhealthcarecoverage', 'Year': 2018, 'Yes': 0.626471, 'Don\\'t Know': 0.250000, 'No': 0.123529},\n",
    "#     {'Type':'mentalhealthcarecoverage', 'Year': 2019, 'Yes': 0.573427, 'Don\\'t Know': 0.304196, 'No': 0.122378},\n",
    "    \n",
    "#     {'Type':'AwarenessOfOptions', 'Year': 2014, 'Yes': 0.267483, 'Don\\'t Know': 0.307692 , 'No': 0.308566},\n",
    "#     {'Type':'AwarenessOfOptions', 'Year': 2016, 'Yes': 0.499529, 'Don\\'t Know': 0.299717, 'No': },\n",
    "#     {'Type':'AwarenessOfOptions', 'Year': 2017, 'Yes': 0.581848, 'Don\\'t Know': 0.270665, 'No': 0.147488},\n",
    "#     {'Type':'AwarenessOfOptions', 'Year': 2018, 'Yes': 0.626471, 'Don\\'t Know': 0.250000, 'No': 0.123529},\n",
    "#     {'Type':'AwarenessOfOptions', 'Year': 2019, 'Yes': 0.573427, 'Don\\'t Know': 0.304196, 'No': 0.122378},\n",
    "# ]"
   ]
  },
  {
   "cell_type": "code",
   "execution_count": 90,
   "id": "10da0287",
   "metadata": {},
   "outputs": [],
   "source": [
    "# data = [\n",
    "#     {'Type':'mentalhealthcarecoverage', 'Year': 2014, 'Yes': 0.414161, 'Don\\'t Know': 0.339476 , 'No': 0.246363},\n",
    "#     {'Type':'mentalhealthcarecoverage', 'Year': 2016, 'Yes': 0.499529, 'Don\\'t Know': 0.299717, 'No': 0.200754},\n",
    "#     {'Type':'mentalhealthcarecoverage', 'Year': 2017, 'Yes': 0.581848, 'Don\\'t Know': 0.270665, 'No': 0.147488},\n",
    "#     {'Type':'mentalhealthcarecoverage', 'Year': 2018, 'Yes': 0.626471, 'Don\\'t Know': 0.250000, 'No': 0.123529},\n",
    "#     {'Type':'mentalhealthcarecoverage', 'Year': 2019, 'Yes': 0.573427, 'Don\\'t Know': 0.304196, 'No': 0.122378},\n",
    "    \n",
    "#     {'Type':'AwarenessOfOptions', 'Year': 2014, 'Yes': 0.267483, 'Don\\'t Know': 0.307692 , 'No': 0.308566},\n",
    "#     {'Type':'AwarenessOfOptions', 'Year': 2016, 'Yes': 0.499529, 'Don\\'t Know': 0.299717, 'No': },\n",
    "#     {'Type':'AwarenessOfOptions', 'Year': 2017, 'Yes': 0.581848, 'Don\\'t Know': 0.270665, 'No': 0.147488},\n",
    "#     {'Type':'AwarenessOfOptions', 'Year': 2018, 'Yes': 0.626471, 'Don\\'t Know': 0.250000, 'No': 0.123529},\n",
    "#     {'Type':'AwarenessOfOptions', 'Year': 2019, 'Yes': 0.573427, 'Don\\'t Know': 0.304196, 'No': 0.122378},\n",
    "# ]"
   ]
  },
  {
   "cell_type": "code",
   "execution_count": null,
   "id": "065f7dd7",
   "metadata": {},
   "outputs": [],
   "source": []
  }
 ],
 "metadata": {
  "kernelspec": {
   "display_name": "Python 3 (ipykernel)",
   "language": "python",
   "name": "python3"
  },
  "language_info": {
   "codemirror_mode": {
    "name": "ipython",
    "version": 3
   },
   "file_extension": ".py",
   "mimetype": "text/x-python",
   "name": "python",
   "nbconvert_exporter": "python",
   "pygments_lexer": "ipython3",
   "version": "3.11.7"
  }
 },
 "nbformat": 4,
 "nbformat_minor": 5
}
